{
  "nbformat": 4,
  "nbformat_minor": 0,
  "metadata": {
    "colab": {
      "name": "wind forecasting_final.ipynb",
      "provenance": [],
      "collapsed_sections": []
    },
    "kernelspec": {
      "name": "python3",
      "display_name": "Python 3"
    }
  },
  "cells": [
    {
      "cell_type": "code",
      "metadata": {
        "id": "okK644edxteI",
        "outputId": "a89b8069-766b-47ad-c5ea-c2d401c6ec4a",
        "colab": {
          "base_uri": "https://localhost:8080/"
        }
      },
      "source": [
        "!pip install InfluxDB"
      ],
      "execution_count": 42,
      "outputs": [
        {
          "output_type": "stream",
          "text": [
            "Requirement already satisfied: InfluxDB in /usr/local/lib/python3.6/dist-packages (5.3.0)\n",
            "Requirement already satisfied: msgpack==0.6.1 in /usr/local/lib/python3.6/dist-packages (from InfluxDB) (0.6.1)\n",
            "Requirement already satisfied: requests>=2.17.0 in /usr/local/lib/python3.6/dist-packages (from InfluxDB) (2.23.0)\n",
            "Requirement already satisfied: pytz in /usr/local/lib/python3.6/dist-packages (from InfluxDB) (2018.9)\n",
            "Requirement already satisfied: six>=1.10.0 in /usr/local/lib/python3.6/dist-packages (from InfluxDB) (1.15.0)\n",
            "Requirement already satisfied: python-dateutil>=2.6.0 in /usr/local/lib/python3.6/dist-packages (from InfluxDB) (2.8.1)\n",
            "Requirement already satisfied: urllib3!=1.25.0,!=1.25.1,<1.26,>=1.21.1 in /usr/local/lib/python3.6/dist-packages (from requests>=2.17.0->InfluxDB) (1.24.3)\n",
            "Requirement already satisfied: idna<3,>=2.5 in /usr/local/lib/python3.6/dist-packages (from requests>=2.17.0->InfluxDB) (2.10)\n",
            "Requirement already satisfied: certifi>=2017.4.17 in /usr/local/lib/python3.6/dist-packages (from requests>=2.17.0->InfluxDB) (2020.6.20)\n",
            "Requirement already satisfied: chardet<4,>=3.0.2 in /usr/local/lib/python3.6/dist-packages (from requests>=2.17.0->InfluxDB) (3.0.4)\n"
          ],
          "name": "stdout"
        }
      ]
    },
    {
      "cell_type": "code",
      "metadata": {
        "id": "EMzUsE6UxJG_"
      },
      "source": [
        "## Getting the data\n",
        "\n",
        "from influxdb import InfluxDBClient # install via \"pip install influxdb\"\n",
        "import pandas as pd\n",
        "\n"
      ],
      "execution_count": 43,
      "outputs": []
    },
    {
      "cell_type": "code",
      "metadata": {
        "id": "GpD3OlTVxqlB"
      },
      "source": [
        "client = InfluxDBClient(host='influxus.itu.dk', port=8086, username='lsda', password='icanonlyread')\n",
        "client.switch_database('orkney')\n",
        "\n",
        "def get_df(results):\n",
        "    values = results.raw[\"series\"][0][\"values\"]\n",
        "    columns = results.raw[\"series\"][0][\"columns\"]\n",
        "    df = pd.DataFrame(values, columns=columns).set_index(\"time\")\n",
        "    df.index = pd.to_datetime(df.index) # Convert to datetime-index\n",
        "    return df\n",
        "\n",
        "# Get the last 90 days of power generation data\n",
        "generation = client.query(\n",
        "    \"SELECT * FROM Generation where time > now()-90d\"\n",
        "    ) # Query written in InfluxQL\n",
        "\n",
        "# Get the last 90 days of weather forecasts with the shortest lead time\n",
        "wind  = client.query(\n",
        "    \"SELECT * FROM MetForecasts where time > now()-90d and time <= now() and Lead_hours = '1'\"\n",
        "    ) # Query written in InfluxQL\n",
        "\n",
        "gen_df = get_df(generation)\n",
        "wind_df = get_df(wind)\n",
        "\n",
        "\n",
        "####################################################\n"
      ],
      "execution_count": 44,
      "outputs": []
    },
    {
      "cell_type": "code",
      "metadata": {
        "id": "8ah5YW880H0o",
        "outputId": "a4370696-0361-4b3d-d7a4-2c34f6ee6fa5",
        "colab": {
          "base_uri": "https://localhost:8080/"
        }
      },
      "source": [
        "print (gen_df)"
      ],
      "execution_count": 45,
      "outputs": [
        {
          "output_type": "stream",
          "text": [
            "                             ANM  Non-ANM  Total\n",
            "time                                            \n",
            "2020-07-09 16:08:00+00:00  0.342    0.887  1.229\n",
            "2020-07-09 16:09:00+00:00  0.297    0.907  1.204\n",
            "2020-07-09 16:10:00+00:00  0.227    0.927  1.154\n",
            "2020-07-09 16:11:00+00:00  0.248    0.936  1.184\n",
            "2020-07-09 16:12:00+00:00  0.317    0.894  1.211\n",
            "...                          ...      ...    ...\n",
            "2020-10-07 16:03:00+00:00  2.329    4.775  7.104\n",
            "2020-10-07 16:04:00+00:00  2.602    5.202  7.804\n",
            "2020-10-07 16:05:00+00:00  2.487    5.023  7.510\n",
            "2020-10-07 16:06:00+00:00  2.441    5.023  7.464\n",
            "2020-10-07 16:07:00+00:00  2.432    5.321  7.753\n",
            "\n",
            "[129339 rows x 3 columns]\n"
          ],
          "name": "stdout"
        }
      ]
    },
    {
      "cell_type": "code",
      "metadata": {
        "id": "R3j-vZwK4kq8",
        "outputId": "8ccbe404-c669-411e-ed1a-feff916b4141",
        "colab": {
          "base_uri": "https://localhost:8080/",
          "height": 446
        }
      },
      "source": [
        "gen_df.resample('180min').mean()"
      ],
      "execution_count": 48,
      "outputs": [
        {
          "output_type": "execute_result",
          "data": {
            "text/html": [
              "<div>\n",
              "<style scoped>\n",
              "    .dataframe tbody tr th:only-of-type {\n",
              "        vertical-align: middle;\n",
              "    }\n",
              "\n",
              "    .dataframe tbody tr th {\n",
              "        vertical-align: top;\n",
              "    }\n",
              "\n",
              "    .dataframe thead th {\n",
              "        text-align: right;\n",
              "    }\n",
              "</style>\n",
              "<table border=\"1\" class=\"dataframe\">\n",
              "  <thead>\n",
              "    <tr style=\"text-align: right;\">\n",
              "      <th></th>\n",
              "      <th>ANM</th>\n",
              "      <th>Non-ANM</th>\n",
              "      <th>Total</th>\n",
              "    </tr>\n",
              "    <tr>\n",
              "      <th>time</th>\n",
              "      <th></th>\n",
              "      <th></th>\n",
              "      <th></th>\n",
              "    </tr>\n",
              "  </thead>\n",
              "  <tbody>\n",
              "    <tr>\n",
              "      <th>2020-07-09 15:00:00+00:00</th>\n",
              "      <td>0.302562</td>\n",
              "      <td>0.980580</td>\n",
              "      <td>1.283143</td>\n",
              "    </tr>\n",
              "    <tr>\n",
              "      <th>2020-07-09 18:00:00+00:00</th>\n",
              "      <td>0.354389</td>\n",
              "      <td>0.798806</td>\n",
              "      <td>1.153194</td>\n",
              "    </tr>\n",
              "    <tr>\n",
              "      <th>2020-07-09 21:00:00+00:00</th>\n",
              "      <td>-0.006073</td>\n",
              "      <td>1.167754</td>\n",
              "      <td>1.161682</td>\n",
              "    </tr>\n",
              "    <tr>\n",
              "      <th>2020-07-10 00:00:00+00:00</th>\n",
              "      <td>0.135567</td>\n",
              "      <td>1.191305</td>\n",
              "      <td>1.326872</td>\n",
              "    </tr>\n",
              "    <tr>\n",
              "      <th>2020-07-10 03:00:00+00:00</th>\n",
              "      <td>0.685582</td>\n",
              "      <td>1.885825</td>\n",
              "      <td>2.571407</td>\n",
              "    </tr>\n",
              "    <tr>\n",
              "      <th>...</th>\n",
              "      <td>...</td>\n",
              "      <td>...</td>\n",
              "      <td>...</td>\n",
              "    </tr>\n",
              "    <tr>\n",
              "      <th>2020-10-07 03:00:00+00:00</th>\n",
              "      <td>3.142150</td>\n",
              "      <td>4.176633</td>\n",
              "      <td>7.318783</td>\n",
              "    </tr>\n",
              "    <tr>\n",
              "      <th>2020-10-07 06:00:00+00:00</th>\n",
              "      <td>3.621500</td>\n",
              "      <td>5.775356</td>\n",
              "      <td>9.396856</td>\n",
              "    </tr>\n",
              "    <tr>\n",
              "      <th>2020-10-07 09:00:00+00:00</th>\n",
              "      <td>2.221422</td>\n",
              "      <td>3.301906</td>\n",
              "      <td>5.523328</td>\n",
              "    </tr>\n",
              "    <tr>\n",
              "      <th>2020-10-07 12:00:00+00:00</th>\n",
              "      <td>2.368106</td>\n",
              "      <td>3.666500</td>\n",
              "      <td>6.034606</td>\n",
              "    </tr>\n",
              "    <tr>\n",
              "      <th>2020-10-07 15:00:00+00:00</th>\n",
              "      <td>2.944309</td>\n",
              "      <td>5.696338</td>\n",
              "      <td>8.640647</td>\n",
              "    </tr>\n",
              "  </tbody>\n",
              "</table>\n",
              "<p>721 rows × 3 columns</p>\n",
              "</div>"
            ],
            "text/plain": [
              "                                ANM   Non-ANM     Total\n",
              "time                                                   \n",
              "2020-07-09 15:00:00+00:00  0.302562  0.980580  1.283143\n",
              "2020-07-09 18:00:00+00:00  0.354389  0.798806  1.153194\n",
              "2020-07-09 21:00:00+00:00 -0.006073  1.167754  1.161682\n",
              "2020-07-10 00:00:00+00:00  0.135567  1.191305  1.326872\n",
              "2020-07-10 03:00:00+00:00  0.685582  1.885825  2.571407\n",
              "...                             ...       ...       ...\n",
              "2020-10-07 03:00:00+00:00  3.142150  4.176633  7.318783\n",
              "2020-10-07 06:00:00+00:00  3.621500  5.775356  9.396856\n",
              "2020-10-07 09:00:00+00:00  2.221422  3.301906  5.523328\n",
              "2020-10-07 12:00:00+00:00  2.368106  3.666500  6.034606\n",
              "2020-10-07 15:00:00+00:00  2.944309  5.696338  8.640647\n",
              "\n",
              "[721 rows x 3 columns]"
            ]
          },
          "metadata": {
            "tags": []
          },
          "execution_count": 48
        }
      ]
    },
    {
      "cell_type": "code",
      "metadata": {
        "id": "W9LnpvVC4knV"
      },
      "source": [
        ""
      ],
      "execution_count": null,
      "outputs": []
    },
    {
      "cell_type": "code",
      "metadata": {
        "id": "4tvxcBok0O2X",
        "outputId": "162c5e37-7591-46b7-f77c-d61cf7dc7b9f",
        "colab": {
          "base_uri": "https://localhost:8080/",
          "height": 446
        }
      },
      "source": [
        "wind_df"
      ],
      "execution_count": 49,
      "outputs": [
        {
          "output_type": "execute_result",
          "data": {
            "text/html": [
              "<div>\n",
              "<style scoped>\n",
              "    .dataframe tbody tr th:only-of-type {\n",
              "        vertical-align: middle;\n",
              "    }\n",
              "\n",
              "    .dataframe tbody tr th {\n",
              "        vertical-align: top;\n",
              "    }\n",
              "\n",
              "    .dataframe thead th {\n",
              "        text-align: right;\n",
              "    }\n",
              "</style>\n",
              "<table border=\"1\" class=\"dataframe\">\n",
              "  <thead>\n",
              "    <tr style=\"text-align: right;\">\n",
              "      <th></th>\n",
              "      <th>Direction</th>\n",
              "      <th>Lead_hours</th>\n",
              "      <th>Source_time</th>\n",
              "      <th>Speed</th>\n",
              "    </tr>\n",
              "    <tr>\n",
              "      <th>time</th>\n",
              "      <th></th>\n",
              "      <th></th>\n",
              "      <th></th>\n",
              "      <th></th>\n",
              "    </tr>\n",
              "  </thead>\n",
              "  <tbody>\n",
              "    <tr>\n",
              "      <th>2020-07-09 18:00:00+00:00</th>\n",
              "      <td>NNW</td>\n",
              "      <td>1</td>\n",
              "      <td>1594306800</td>\n",
              "      <td>3.12928</td>\n",
              "    </tr>\n",
              "    <tr>\n",
              "      <th>2020-07-09 21:00:00+00:00</th>\n",
              "      <td>NW</td>\n",
              "      <td>1</td>\n",
              "      <td>1594317600</td>\n",
              "      <td>1.78816</td>\n",
              "    </tr>\n",
              "    <tr>\n",
              "      <th>2020-07-10 00:00:00+00:00</th>\n",
              "      <td>W</td>\n",
              "      <td>1</td>\n",
              "      <td>1594328400</td>\n",
              "      <td>3.12928</td>\n",
              "    </tr>\n",
              "    <tr>\n",
              "      <th>2020-07-10 06:00:00+00:00</th>\n",
              "      <td>WSW</td>\n",
              "      <td>1</td>\n",
              "      <td>1594350000</td>\n",
              "      <td>4.91744</td>\n",
              "    </tr>\n",
              "    <tr>\n",
              "      <th>2020-07-10 09:00:00+00:00</th>\n",
              "      <td>W</td>\n",
              "      <td>1</td>\n",
              "      <td>1594360800</td>\n",
              "      <td>4.91744</td>\n",
              "    </tr>\n",
              "    <tr>\n",
              "      <th>...</th>\n",
              "      <td>...</td>\n",
              "      <td>...</td>\n",
              "      <td>...</td>\n",
              "      <td>...</td>\n",
              "    </tr>\n",
              "    <tr>\n",
              "      <th>2020-10-07 03:00:00+00:00</th>\n",
              "      <td>NW</td>\n",
              "      <td>1</td>\n",
              "      <td>1602028800</td>\n",
              "      <td>4.02336</td>\n",
              "    </tr>\n",
              "    <tr>\n",
              "      <th>2020-10-07 06:00:00+00:00</th>\n",
              "      <td>NW</td>\n",
              "      <td>1</td>\n",
              "      <td>1602039600</td>\n",
              "      <td>8.94080</td>\n",
              "    </tr>\n",
              "    <tr>\n",
              "      <th>2020-10-07 09:00:00+00:00</th>\n",
              "      <td>NW</td>\n",
              "      <td>1</td>\n",
              "      <td>1602050400</td>\n",
              "      <td>7.15264</td>\n",
              "    </tr>\n",
              "    <tr>\n",
              "      <th>2020-10-07 12:00:00+00:00</th>\n",
              "      <td>NW</td>\n",
              "      <td>1</td>\n",
              "      <td>1602061200</td>\n",
              "      <td>7.15264</td>\n",
              "    </tr>\n",
              "    <tr>\n",
              "      <th>2020-10-07 15:00:00+00:00</th>\n",
              "      <td>NW</td>\n",
              "      <td>1</td>\n",
              "      <td>1602072000</td>\n",
              "      <td>5.81152</td>\n",
              "    </tr>\n",
              "  </tbody>\n",
              "</table>\n",
              "<p>708 rows × 4 columns</p>\n",
              "</div>"
            ],
            "text/plain": [
              "                          Direction Lead_hours  Source_time    Speed\n",
              "time                                                                \n",
              "2020-07-09 18:00:00+00:00       NNW          1   1594306800  3.12928\n",
              "2020-07-09 21:00:00+00:00        NW          1   1594317600  1.78816\n",
              "2020-07-10 00:00:00+00:00         W          1   1594328400  3.12928\n",
              "2020-07-10 06:00:00+00:00       WSW          1   1594350000  4.91744\n",
              "2020-07-10 09:00:00+00:00         W          1   1594360800  4.91744\n",
              "...                             ...        ...          ...      ...\n",
              "2020-10-07 03:00:00+00:00        NW          1   1602028800  4.02336\n",
              "2020-10-07 06:00:00+00:00        NW          1   1602039600  8.94080\n",
              "2020-10-07 09:00:00+00:00        NW          1   1602050400  7.15264\n",
              "2020-10-07 12:00:00+00:00        NW          1   1602061200  7.15264\n",
              "2020-10-07 15:00:00+00:00        NW          1   1602072000  5.81152\n",
              "\n",
              "[708 rows x 4 columns]"
            ]
          },
          "metadata": {
            "tags": []
          },
          "execution_count": 49
        }
      ]
    },
    {
      "cell_type": "code",
      "metadata": {
        "id": "MtkKMpgs4jJj"
      },
      "source": [
        "new_df = pd.merge(wind_df, gen_df, on=[\"time\"])"
      ],
      "execution_count": 51,
      "outputs": []
    },
    {
      "cell_type": "code",
      "metadata": {
        "id": "TIAHheAv4jdp",
        "outputId": "736b3aca-356a-4f20-d628-618753e5e30b",
        "colab": {
          "base_uri": "https://localhost:8080/",
          "height": 446
        }
      },
      "source": [
        "new_df"
      ],
      "execution_count": 52,
      "outputs": [
        {
          "output_type": "execute_result",
          "data": {
            "text/html": [
              "<div>\n",
              "<style scoped>\n",
              "    .dataframe tbody tr th:only-of-type {\n",
              "        vertical-align: middle;\n",
              "    }\n",
              "\n",
              "    .dataframe tbody tr th {\n",
              "        vertical-align: top;\n",
              "    }\n",
              "\n",
              "    .dataframe thead th {\n",
              "        text-align: right;\n",
              "    }\n",
              "</style>\n",
              "<table border=\"1\" class=\"dataframe\">\n",
              "  <thead>\n",
              "    <tr style=\"text-align: right;\">\n",
              "      <th></th>\n",
              "      <th>Direction</th>\n",
              "      <th>Lead_hours</th>\n",
              "      <th>Source_time</th>\n",
              "      <th>Speed</th>\n",
              "      <th>ANM</th>\n",
              "      <th>Non-ANM</th>\n",
              "      <th>Total</th>\n",
              "    </tr>\n",
              "    <tr>\n",
              "      <th>time</th>\n",
              "      <th></th>\n",
              "      <th></th>\n",
              "      <th></th>\n",
              "      <th></th>\n",
              "      <th></th>\n",
              "      <th></th>\n",
              "      <th></th>\n",
              "    </tr>\n",
              "  </thead>\n",
              "  <tbody>\n",
              "    <tr>\n",
              "      <th>2020-07-09 18:00:00+00:00</th>\n",
              "      <td>NNW</td>\n",
              "      <td>1</td>\n",
              "      <td>1594306800</td>\n",
              "      <td>3.12928</td>\n",
              "      <td>0.485000</td>\n",
              "      <td>1.019</td>\n",
              "      <td>1.504000</td>\n",
              "    </tr>\n",
              "    <tr>\n",
              "      <th>2020-07-09 21:00:00+00:00</th>\n",
              "      <td>NW</td>\n",
              "      <td>1</td>\n",
              "      <td>1594317600</td>\n",
              "      <td>1.78816</td>\n",
              "      <td>0.035000</td>\n",
              "      <td>0.635</td>\n",
              "      <td>0.670000</td>\n",
              "    </tr>\n",
              "    <tr>\n",
              "      <th>2020-07-10 00:00:00+00:00</th>\n",
              "      <td>W</td>\n",
              "      <td>1</td>\n",
              "      <td>1594328400</td>\n",
              "      <td>3.12928</td>\n",
              "      <td>0.027000</td>\n",
              "      <td>1.046</td>\n",
              "      <td>1.073000</td>\n",
              "    </tr>\n",
              "    <tr>\n",
              "      <th>2020-07-10 06:00:00+00:00</th>\n",
              "      <td>WSW</td>\n",
              "      <td>1</td>\n",
              "      <td>1594350000</td>\n",
              "      <td>4.91744</td>\n",
              "      <td>1.180000</td>\n",
              "      <td>1.782</td>\n",
              "      <td>2.962000</td>\n",
              "    </tr>\n",
              "    <tr>\n",
              "      <th>2020-07-10 09:00:00+00:00</th>\n",
              "      <td>W</td>\n",
              "      <td>1</td>\n",
              "      <td>1594360800</td>\n",
              "      <td>4.91744</td>\n",
              "      <td>2.431000</td>\n",
              "      <td>4.044</td>\n",
              "      <td>6.475000</td>\n",
              "    </tr>\n",
              "    <tr>\n",
              "      <th>...</th>\n",
              "      <td>...</td>\n",
              "      <td>...</td>\n",
              "      <td>...</td>\n",
              "      <td>...</td>\n",
              "      <td>...</td>\n",
              "      <td>...</td>\n",
              "      <td>...</td>\n",
              "    </tr>\n",
              "    <tr>\n",
              "      <th>2020-10-07 03:00:00+00:00</th>\n",
              "      <td>NW</td>\n",
              "      <td>1</td>\n",
              "      <td>1602028800</td>\n",
              "      <td>4.02336</td>\n",
              "      <td>1.937000</td>\n",
              "      <td>3.536</td>\n",
              "      <td>5.473000</td>\n",
              "    </tr>\n",
              "    <tr>\n",
              "      <th>2020-10-07 06:00:00+00:00</th>\n",
              "      <td>NW</td>\n",
              "      <td>1</td>\n",
              "      <td>1602039600</td>\n",
              "      <td>8.94080</td>\n",
              "      <td>4.071999</td>\n",
              "      <td>6.060</td>\n",
              "      <td>10.131999</td>\n",
              "    </tr>\n",
              "    <tr>\n",
              "      <th>2020-10-07 09:00:00+00:00</th>\n",
              "      <td>NW</td>\n",
              "      <td>1</td>\n",
              "      <td>1602050400</td>\n",
              "      <td>7.15264</td>\n",
              "      <td>2.929000</td>\n",
              "      <td>3.654</td>\n",
              "      <td>6.583000</td>\n",
              "    </tr>\n",
              "    <tr>\n",
              "      <th>2020-10-07 12:00:00+00:00</th>\n",
              "      <td>NW</td>\n",
              "      <td>1</td>\n",
              "      <td>1602061200</td>\n",
              "      <td>7.15264</td>\n",
              "      <td>1.608000</td>\n",
              "      <td>2.365</td>\n",
              "      <td>3.973000</td>\n",
              "    </tr>\n",
              "    <tr>\n",
              "      <th>2020-10-07 15:00:00+00:00</th>\n",
              "      <td>NW</td>\n",
              "      <td>1</td>\n",
              "      <td>1602072000</td>\n",
              "      <td>5.81152</td>\n",
              "      <td>3.224000</td>\n",
              "      <td>8.579</td>\n",
              "      <td>11.803000</td>\n",
              "    </tr>\n",
              "  </tbody>\n",
              "</table>\n",
              "<p>707 rows × 7 columns</p>\n",
              "</div>"
            ],
            "text/plain": [
              "                          Direction Lead_hours  ...  Non-ANM      Total\n",
              "time                                            ...                    \n",
              "2020-07-09 18:00:00+00:00       NNW          1  ...    1.019   1.504000\n",
              "2020-07-09 21:00:00+00:00        NW          1  ...    0.635   0.670000\n",
              "2020-07-10 00:00:00+00:00         W          1  ...    1.046   1.073000\n",
              "2020-07-10 06:00:00+00:00       WSW          1  ...    1.782   2.962000\n",
              "2020-07-10 09:00:00+00:00         W          1  ...    4.044   6.475000\n",
              "...                             ...        ...  ...      ...        ...\n",
              "2020-10-07 03:00:00+00:00        NW          1  ...    3.536   5.473000\n",
              "2020-10-07 06:00:00+00:00        NW          1  ...    6.060  10.131999\n",
              "2020-10-07 09:00:00+00:00        NW          1  ...    3.654   6.583000\n",
              "2020-10-07 12:00:00+00:00        NW          1  ...    2.365   3.973000\n",
              "2020-10-07 15:00:00+00:00        NW          1  ...    8.579  11.803000\n",
              "\n",
              "[707 rows x 7 columns]"
            ]
          },
          "metadata": {
            "tags": []
          },
          "execution_count": 52
        }
      ]
    },
    {
      "cell_type": "code",
      "metadata": {
        "id": "SDWppS7todaj",
        "outputId": "79f49f00-cb12-4348-ea54-4506be2c78c2",
        "colab": {
          "base_uri": "https://localhost:8080/"
        }
      },
      "source": [
        "# from sklearn.preprocessing import StandardScaler\n",
        "# import numpy as np\n",
        "\n",
        "# #### try with min max scalar##########\n",
        "# ##### You asked me to give graph for test and predict data ####\n",
        "# # create an object of the StandardScaler\n",
        "# scaler = StandardScaler()\n",
        "# # fit with the Item_MRP\n",
        "# scaler.fit(np.array(new_df.Speed).reshape(-1,1))\n",
        "# # transform the data\n",
        "# new_df.Total = scaler.transform(np.array(new_df.Total).reshape(-1,1))\n",
        "# new_df.Total\n"
      ],
      "execution_count": null,
      "outputs": [
        {
          "output_type": "execute_result",
          "data": {
            "text/plain": [
              "time\n",
              "2020-07-09 18:00:00+00:00   -1.152429\n",
              "2020-07-09 21:00:00+00:00   -1.229000\n",
              "2020-07-10 00:00:00+00:00   -1.192000\n",
              "2020-07-10 06:00:00+00:00   -1.018567\n",
              "2020-07-10 09:00:00+00:00   -0.696031\n",
              "                               ...   \n",
              "2020-10-07 03:00:00+00:00   -0.788026\n",
              "2020-10-07 06:00:00+00:00   -0.360274\n",
              "2020-10-07 09:00:00+00:00   -0.686115\n",
              "2020-10-07 12:00:00+00:00   -0.925745\n",
              "2020-10-07 15:00:00+00:00   -0.206856\n",
              "Name: Total, Length: 707, dtype: float64"
            ]
          },
          "metadata": {
            "tags": []
          },
          "execution_count": 11
        }
      ]
    },
    {
      "cell_type": "code",
      "metadata": {
        "id": "KgfnSmRJManL",
        "outputId": "86b36ee8-1704-455a-dd17-59425b07f162",
        "colab": {
          "base_uri": "https://localhost:8080/"
        }
      },
      "source": [
        "print(new_df.isna().sum())\n",
        "\n"
      ],
      "execution_count": 53,
      "outputs": [
        {
          "output_type": "stream",
          "text": [
            "Direction      0\n",
            "Lead_hours     0\n",
            "Source_time    0\n",
            "Speed          0\n",
            "ANM            0\n",
            "Non-ANM        0\n",
            "Total          0\n",
            "dtype: int64\n"
          ],
          "name": "stdout"
        }
      ]
    },
    {
      "cell_type": "code",
      "metadata": {
        "id": "xvC8Zt5jFEM7",
        "outputId": "526e6d65-7708-4514-9182-5b419a2017e6",
        "colab": {
          "base_uri": "https://localhost:8080/",
          "height": 446
        }
      },
      "source": [
        "new_df"
      ],
      "execution_count": 54,
      "outputs": [
        {
          "output_type": "execute_result",
          "data": {
            "text/html": [
              "<div>\n",
              "<style scoped>\n",
              "    .dataframe tbody tr th:only-of-type {\n",
              "        vertical-align: middle;\n",
              "    }\n",
              "\n",
              "    .dataframe tbody tr th {\n",
              "        vertical-align: top;\n",
              "    }\n",
              "\n",
              "    .dataframe thead th {\n",
              "        text-align: right;\n",
              "    }\n",
              "</style>\n",
              "<table border=\"1\" class=\"dataframe\">\n",
              "  <thead>\n",
              "    <tr style=\"text-align: right;\">\n",
              "      <th></th>\n",
              "      <th>Direction</th>\n",
              "      <th>Lead_hours</th>\n",
              "      <th>Source_time</th>\n",
              "      <th>Speed</th>\n",
              "      <th>ANM</th>\n",
              "      <th>Non-ANM</th>\n",
              "      <th>Total</th>\n",
              "    </tr>\n",
              "    <tr>\n",
              "      <th>time</th>\n",
              "      <th></th>\n",
              "      <th></th>\n",
              "      <th></th>\n",
              "      <th></th>\n",
              "      <th></th>\n",
              "      <th></th>\n",
              "      <th></th>\n",
              "    </tr>\n",
              "  </thead>\n",
              "  <tbody>\n",
              "    <tr>\n",
              "      <th>2020-07-09 18:00:00+00:00</th>\n",
              "      <td>NNW</td>\n",
              "      <td>1</td>\n",
              "      <td>1594306800</td>\n",
              "      <td>3.12928</td>\n",
              "      <td>0.485000</td>\n",
              "      <td>1.019</td>\n",
              "      <td>1.504000</td>\n",
              "    </tr>\n",
              "    <tr>\n",
              "      <th>2020-07-09 21:00:00+00:00</th>\n",
              "      <td>NW</td>\n",
              "      <td>1</td>\n",
              "      <td>1594317600</td>\n",
              "      <td>1.78816</td>\n",
              "      <td>0.035000</td>\n",
              "      <td>0.635</td>\n",
              "      <td>0.670000</td>\n",
              "    </tr>\n",
              "    <tr>\n",
              "      <th>2020-07-10 00:00:00+00:00</th>\n",
              "      <td>W</td>\n",
              "      <td>1</td>\n",
              "      <td>1594328400</td>\n",
              "      <td>3.12928</td>\n",
              "      <td>0.027000</td>\n",
              "      <td>1.046</td>\n",
              "      <td>1.073000</td>\n",
              "    </tr>\n",
              "    <tr>\n",
              "      <th>2020-07-10 06:00:00+00:00</th>\n",
              "      <td>WSW</td>\n",
              "      <td>1</td>\n",
              "      <td>1594350000</td>\n",
              "      <td>4.91744</td>\n",
              "      <td>1.180000</td>\n",
              "      <td>1.782</td>\n",
              "      <td>2.962000</td>\n",
              "    </tr>\n",
              "    <tr>\n",
              "      <th>2020-07-10 09:00:00+00:00</th>\n",
              "      <td>W</td>\n",
              "      <td>1</td>\n",
              "      <td>1594360800</td>\n",
              "      <td>4.91744</td>\n",
              "      <td>2.431000</td>\n",
              "      <td>4.044</td>\n",
              "      <td>6.475000</td>\n",
              "    </tr>\n",
              "    <tr>\n",
              "      <th>...</th>\n",
              "      <td>...</td>\n",
              "      <td>...</td>\n",
              "      <td>...</td>\n",
              "      <td>...</td>\n",
              "      <td>...</td>\n",
              "      <td>...</td>\n",
              "      <td>...</td>\n",
              "    </tr>\n",
              "    <tr>\n",
              "      <th>2020-10-07 03:00:00+00:00</th>\n",
              "      <td>NW</td>\n",
              "      <td>1</td>\n",
              "      <td>1602028800</td>\n",
              "      <td>4.02336</td>\n",
              "      <td>1.937000</td>\n",
              "      <td>3.536</td>\n",
              "      <td>5.473000</td>\n",
              "    </tr>\n",
              "    <tr>\n",
              "      <th>2020-10-07 06:00:00+00:00</th>\n",
              "      <td>NW</td>\n",
              "      <td>1</td>\n",
              "      <td>1602039600</td>\n",
              "      <td>8.94080</td>\n",
              "      <td>4.071999</td>\n",
              "      <td>6.060</td>\n",
              "      <td>10.131999</td>\n",
              "    </tr>\n",
              "    <tr>\n",
              "      <th>2020-10-07 09:00:00+00:00</th>\n",
              "      <td>NW</td>\n",
              "      <td>1</td>\n",
              "      <td>1602050400</td>\n",
              "      <td>7.15264</td>\n",
              "      <td>2.929000</td>\n",
              "      <td>3.654</td>\n",
              "      <td>6.583000</td>\n",
              "    </tr>\n",
              "    <tr>\n",
              "      <th>2020-10-07 12:00:00+00:00</th>\n",
              "      <td>NW</td>\n",
              "      <td>1</td>\n",
              "      <td>1602061200</td>\n",
              "      <td>7.15264</td>\n",
              "      <td>1.608000</td>\n",
              "      <td>2.365</td>\n",
              "      <td>3.973000</td>\n",
              "    </tr>\n",
              "    <tr>\n",
              "      <th>2020-10-07 15:00:00+00:00</th>\n",
              "      <td>NW</td>\n",
              "      <td>1</td>\n",
              "      <td>1602072000</td>\n",
              "      <td>5.81152</td>\n",
              "      <td>3.224000</td>\n",
              "      <td>8.579</td>\n",
              "      <td>11.803000</td>\n",
              "    </tr>\n",
              "  </tbody>\n",
              "</table>\n",
              "<p>707 rows × 7 columns</p>\n",
              "</div>"
            ],
            "text/plain": [
              "                          Direction Lead_hours  ...  Non-ANM      Total\n",
              "time                                            ...                    \n",
              "2020-07-09 18:00:00+00:00       NNW          1  ...    1.019   1.504000\n",
              "2020-07-09 21:00:00+00:00        NW          1  ...    0.635   0.670000\n",
              "2020-07-10 00:00:00+00:00         W          1  ...    1.046   1.073000\n",
              "2020-07-10 06:00:00+00:00       WSW          1  ...    1.782   2.962000\n",
              "2020-07-10 09:00:00+00:00         W          1  ...    4.044   6.475000\n",
              "...                             ...        ...  ...      ...        ...\n",
              "2020-10-07 03:00:00+00:00        NW          1  ...    3.536   5.473000\n",
              "2020-10-07 06:00:00+00:00        NW          1  ...    6.060  10.131999\n",
              "2020-10-07 09:00:00+00:00        NW          1  ...    3.654   6.583000\n",
              "2020-10-07 12:00:00+00:00        NW          1  ...    2.365   3.973000\n",
              "2020-10-07 15:00:00+00:00        NW          1  ...    8.579  11.803000\n",
              "\n",
              "[707 rows x 7 columns]"
            ]
          },
          "metadata": {
            "tags": []
          },
          "execution_count": 54
        }
      ]
    },
    {
      "cell_type": "code",
      "metadata": {
        "id": "fnDhLVKJQH_t"
      },
      "source": [
        "new_df = new_df.drop(columns=[\"ANM\", \"Non-ANM\"])"
      ],
      "execution_count": 55,
      "outputs": []
    },
    {
      "cell_type": "code",
      "metadata": {
        "id": "AZaOdynF78Ro",
        "outputId": "b772ff21-8db9-4720-fd94-042904655ffb",
        "colab": {
          "base_uri": "https://localhost:8080/"
        }
      },
      "source": [
        "new_df.info()"
      ],
      "execution_count": 56,
      "outputs": [
        {
          "output_type": "stream",
          "text": [
            "<class 'pandas.core.frame.DataFrame'>\n",
            "DatetimeIndex: 707 entries, 2020-07-09 18:00:00+00:00 to 2020-10-07 15:00:00+00:00\n",
            "Data columns (total 5 columns):\n",
            " #   Column       Non-Null Count  Dtype  \n",
            "---  ------       --------------  -----  \n",
            " 0   Direction    707 non-null    object \n",
            " 1   Lead_hours   707 non-null    object \n",
            " 2   Source_time  707 non-null    int64  \n",
            " 3   Speed        707 non-null    float64\n",
            " 4   Total        707 non-null    float64\n",
            "dtypes: float64(2), int64(1), object(2)\n",
            "memory usage: 33.1+ KB\n"
          ],
          "name": "stdout"
        }
      ]
    },
    {
      "cell_type": "code",
      "metadata": {
        "id": "fi1pTWwjQQ5W"
      },
      "source": [
        "import pandas as pd\n",
        "from sklearn.model_selection import train_test_split\n",
        "\n",
        "\n",
        "\n",
        "# Separate target from predictors\n",
        "y = new_df.Total\n",
        "X = new_df.drop(['Total'], axis=1)\n",
        "\n",
        "# Divide data into training and validation subsets\n",
        "X_train_full, X_valid_full, y_train, y_valid = train_test_split(X, y, train_size=0.8, test_size=0.2,\n",
        "                                                                random_state=0)\n",
        "\n",
        "# \"Cardinality\" means the number of unique values in a column\n",
        "# Select categorical columns with relatively low cardinality (convenient but arbitrary)\n",
        "categorical_cols = [cname for cname in X_train_full.columns if X_train_full[cname].nunique() < 20 and \n",
        "                        X_train_full[cname].dtype == \"object\"]\n",
        "\n",
        "# Select numerical columns\n",
        "numerical_cols = [cname for cname in X_train_full.columns if X_train_full[cname].dtype in ['int64', 'float64']]\n",
        "\n",
        "# Keep selected columns only\n",
        "my_cols = categorical_cols + numerical_cols\n",
        "X_train = X_train_full[my_cols].copy()\n",
        "X_valid = X_valid_full[my_cols].copy()"
      ],
      "execution_count": 57,
      "outputs": []
    },
    {
      "cell_type": "code",
      "metadata": {
        "id": "H6AYD0R-CGx3",
        "outputId": "09b9dc8b-c69e-44c0-a74b-56a73234080e",
        "colab": {
          "base_uri": "https://localhost:8080/"
        }
      },
      "source": [
        "categorical_cols\n"
      ],
      "execution_count": 58,
      "outputs": [
        {
          "output_type": "execute_result",
          "data": {
            "text/plain": [
              "['Direction', 'Lead_hours']"
            ]
          },
          "metadata": {
            "tags": []
          },
          "execution_count": 58
        }
      ]
    },
    {
      "cell_type": "code",
      "metadata": {
        "id": "eJedz2D0x0AN",
        "outputId": "1baa270f-6c00-4a11-e432-e84bc5284de9",
        "colab": {
          "base_uri": "https://localhost:8080/"
        }
      },
      "source": [
        "numerical_cols"
      ],
      "execution_count": 59,
      "outputs": [
        {
          "output_type": "execute_result",
          "data": {
            "text/plain": [
              "['Source_time', 'Speed']"
            ]
          },
          "metadata": {
            "tags": []
          },
          "execution_count": 59
        }
      ]
    },
    {
      "cell_type": "code",
      "metadata": {
        "id": "Camfsbtn5t8i"
      },
      "source": [
        "from sklearn.compose import ColumnTransformer\n",
        "from sklearn.pipeline import Pipeline\n",
        "from sklearn.impute import SimpleImputer\n",
        "from sklearn.preprocessing import OneHotEncoder # changing the string data to categorical data like changing Direction to numbers\n",
        "\n",
        "# Preprocessing for numerical data\n",
        "numerical_transformer = SimpleImputer(strategy='constant')\n",
        "\n",
        "# Preprocessing for categorical data\n",
        "categorical_transformer = Pipeline(steps=[\n",
        "    ('imputer', SimpleImputer(strategy='most_frequent')),\n",
        "    ('onehot', OneHotEncoder(handle_unknown='ignore'))\n",
        "])\n",
        "\n",
        "# Bundle preprocessing for numerical and categorical data\n",
        "preprocessor = ColumnTransformer(\n",
        "    transformers=[\n",
        "        ('num', numerical_transformer, numerical_cols),\n",
        "        ('cat', categorical_transformer, categorical_cols),\n",
        "    ])\n"
      ],
      "execution_count": 60,
      "outputs": []
    },
    {
      "cell_type": "code",
      "metadata": {
        "id": "KMT9mVHo8LDf",
        "outputId": "1dd8b823-12a3-4ae7-d639-42c3c32c7711",
        "colab": {
          "base_uri": "https://localhost:8080/"
        }
      },
      "source": [
        "from sklearn.ensemble import RandomForestRegressor\n",
        "from sklearn.linear_model import LinearRegression\n",
        "\n",
        "\n",
        "#model = RandomForestRegressor(n_estimators=100, random_state=15)\n",
        "model = LinearRegression()\n",
        "from sklearn.metrics import mean_absolute_error\n",
        "\n",
        "# Bundle preprocessing and modeling code in a pipeline\n",
        "my_pipeline = Pipeline(steps=[('preprocessor', preprocessor),\n",
        "                              ('model', model)\n",
        "                             ])\n",
        "\n",
        "# Preprocessing of training data, fit model \n",
        "my_pipeline.fit(X_train, y_train)\n",
        "\n"
      ],
      "execution_count": 73,
      "outputs": [
        {
          "output_type": "execute_result",
          "data": {
            "text/plain": [
              "Pipeline(memory=None,\n",
              "         steps=[('preprocessor',\n",
              "                 ColumnTransformer(n_jobs=None, remainder='drop',\n",
              "                                   sparse_threshold=0.3,\n",
              "                                   transformer_weights=None,\n",
              "                                   transformers=[('num',\n",
              "                                                  SimpleImputer(add_indicator=False,\n",
              "                                                                copy=True,\n",
              "                                                                fill_value=None,\n",
              "                                                                missing_values=nan,\n",
              "                                                                strategy='constant',\n",
              "                                                                verbose=0),\n",
              "                                                  ['Source_time', 'Speed']),\n",
              "                                                 ('cat',\n",
              "                                                  Pipeline(memory=None,\n",
              "                                                           steps=[('imputer',\n",
              "                                                                   SimpleImput...\n",
              "                                                                                 fill_value=None,\n",
              "                                                                                 missing_values=nan,\n",
              "                                                                                 strategy='most_frequent',\n",
              "                                                                                 verbose=0)),\n",
              "                                                                  ('onehot',\n",
              "                                                                   OneHotEncoder(categories='auto',\n",
              "                                                                                 drop=None,\n",
              "                                                                                 dtype=<class 'numpy.float64'>,\n",
              "                                                                                 handle_unknown='ignore',\n",
              "                                                                                 sparse=True))],\n",
              "                                                           verbose=False),\n",
              "                                                  ['Direction', 'Lead_hours'])],\n",
              "                                   verbose=False)),\n",
              "                ('model',\n",
              "                 LinearRegression(copy_X=True, fit_intercept=True, n_jobs=None,\n",
              "                                  normalize=False))],\n",
              "         verbose=False)"
            ]
          },
          "metadata": {
            "tags": []
          },
          "execution_count": 73
        }
      ]
    },
    {
      "cell_type": "code",
      "metadata": {
        "id": "ZnkgwbV2wSe8",
        "outputId": "7697e4ba-6b6a-4678-f321-6c137dce98d3",
        "colab": {
          "base_uri": "https://localhost:8080/"
        }
      },
      "source": [
        "# Preprocessing of validation data, get predictions\n",
        "preds = my_pipeline.predict(X_valid)\n",
        "\n",
        "# Evaluate the model\n",
        "score = mean_absolute_error(y_valid, preds)\n",
        "print('MAE:', score)"
      ],
      "execution_count": 74,
      "outputs": [
        {
          "output_type": "stream",
          "text": [
            "MAE: 3.7902207300843775\n"
          ],
          "name": "stdout"
        }
      ]
    },
    {
      "cell_type": "code",
      "metadata": {
        "id": "bflMpb3qBxoH",
        "outputId": "7b18a81d-df29-4460-c8d6-b72c574e5891",
        "colab": {
          "base_uri": "https://localhost:8080/"
        }
      },
      "source": [
        "print(X_train.head())"
      ],
      "execution_count": 63,
      "outputs": [
        {
          "output_type": "stream",
          "text": [
            "                          Direction Lead_hours  Source_time     Speed\n",
            "time                                                                 \n",
            "2020-08-10 06:00:00+00:00        SE          1   1597028400   7.15264\n",
            "2020-09-14 12:00:00+00:00        SW          1   1600074000  11.17600\n",
            "2020-08-18 12:00:00+00:00        SE          1   1597741200   3.12928\n",
            "2020-08-18 21:00:00+00:00        SE          1   1597773600   3.12928\n",
            "2020-09-30 21:00:00+00:00       NNW          1   1601488800   8.94080\n"
          ],
          "name": "stdout"
        }
      ]
    },
    {
      "cell_type": "code",
      "metadata": {
        "id": "mUu_MOqC91XD",
        "outputId": "2a6f42e2-7b40-4527-a9c5-5b679b60215d",
        "colab": {
          "base_uri": "https://localhost:8080/"
        }
      },
      "source": [
        "\n",
        "# Get all future forecasts regardless of lead time\n",
        "forecasts  = client.query(\n",
        "    \"SELECT * FROM MetForecasts where time > now()\"\n",
        "    ) # Query written in InfluxQL\n",
        "for_df = get_df(forecasts)\n",
        "\n",
        "# Limit to only the newest source time\n",
        "newest_source_time = for_df[\"Source_time\"].max()\n",
        "newest_forecasts = for_df.loc[for_df[\"Source_time\"] == newest_source_time].copy()\n",
        "print(newest_forecasts)\n",
        "\n",
        "# Preprocess the forecasts and do predictions in one fell swoop \n",
        "# using your pipeline\n"
      ],
      "execution_count": 64,
      "outputs": [
        {
          "output_type": "stream",
          "text": [
            "                          Direction Lead_hours  Source_time     Speed\n",
            "time                                                                 \n",
            "2020-10-07 18:00:00+00:00       WNW          3   1602075600   3.12928\n",
            "2020-10-07 21:00:00+00:00       WNW          6   1602075600   8.04672\n",
            "2020-10-08 00:00:00+00:00       WNW          9   1602075600  11.17600\n",
            "2020-10-08 03:00:00+00:00       WNW         12   1602075600   9.83488\n",
            "2020-10-08 06:00:00+00:00        NW         15   1602075600   8.04672\n",
            "2020-10-08 09:00:00+00:00       WNW         18   1602075600   7.15264\n",
            "2020-10-08 12:00:00+00:00       WNW         21   1602075600   7.15264\n",
            "2020-10-08 15:00:00+00:00         W         24   1602075600   8.04672\n",
            "2020-10-08 18:00:00+00:00         W         27   1602075600   8.04672\n",
            "2020-10-08 21:00:00+00:00         W         30   1602075600   8.04672\n",
            "2020-10-09 00:00:00+00:00         W         33   1602075600   7.15264\n",
            "2020-10-09 03:00:00+00:00         W         36   1602075600   4.91744\n",
            "2020-10-09 06:00:00+00:00        SW         39   1602075600   4.02336\n",
            "2020-10-09 09:00:00+00:00       WNW         42   1602075600   3.12928\n",
            "2020-10-09 12:00:00+00:00       WNW         45   1602075600   4.02336\n",
            "2020-10-09 15:00:00+00:00        NW         48   1602075600   4.91744\n",
            "2020-10-09 18:00:00+00:00       NNW         51   1602075600   4.91744\n",
            "2020-10-09 21:00:00+00:00       NNW         54   1602075600   7.15264\n",
            "2020-10-10 00:00:00+00:00        NW         57   1602075600   8.04672\n",
            "2020-10-10 03:00:00+00:00        NW         60   1602075600   8.94080\n",
            "2020-10-10 06:00:00+00:00        NW         63   1602075600  11.17600\n",
            "2020-10-10 09:00:00+00:00       NNW         66   1602075600  11.17600\n",
            "2020-10-10 12:00:00+00:00       NNW         69   1602075600  12.07008\n",
            "2020-10-10 15:00:00+00:00       NNW         72   1602075600  12.07008\n",
            "2020-10-10 18:00:00+00:00       NNW         75   1602075600  12.96416\n",
            "2020-10-10 21:00:00+00:00       NNW         78   1602075600  12.07008\n",
            "2020-10-11 00:00:00+00:00       NNW         81   1602075600  12.07008\n",
            "2020-10-11 03:00:00+00:00       NNW         84   1602075600  11.17600\n",
            "2020-10-11 06:00:00+00:00       NNW         87   1602075600   9.83488\n",
            "2020-10-11 09:00:00+00:00       NNW         90   1602075600   8.04672\n",
            "2020-10-11 12:00:00+00:00       NNW         93   1602075600   7.15264\n",
            "2020-10-11 15:00:00+00:00        NW         96   1602075600   5.81152\n",
            "2020-10-11 18:00:00+00:00       WNW         99   1602075600   4.91744\n",
            "2020-10-11 21:00:00+00:00       WSW        102   1602075600   5.81152\n"
          ],
          "name": "stdout"
        }
      ]
    },
    {
      "cell_type": "code",
      "metadata": {
        "id": "3pLjLvxKDvKo"
      },
      "source": [
        "y=my_pipeline.predict(newest_forecasts)"
      ],
      "execution_count": 65,
      "outputs": []
    },
    {
      "cell_type": "code",
      "metadata": {
        "id": "eTz2kYOGD2RJ",
        "outputId": "618081ba-5a30-44ac-9cba-9e0ba1cdf899",
        "colab": {
          "base_uri": "https://localhost:8080/"
        }
      },
      "source": [
        "y"
      ],
      "execution_count": 66,
      "outputs": [
        {
          "output_type": "execute_result",
          "data": {
            "text/plain": [
              "array([ 3.93421464, 17.60430972, 26.30346113, 22.57525338, 14.69794767,\n",
              "       15.11883789, 15.11883789, 15.71921519, 15.71921519, 15.71921519,\n",
              "       13.23374336,  7.02006378,  4.15988206,  3.93421464,  6.41968648,\n",
              "        5.99879626,  6.32963276, 12.54331234, 14.69794767, 17.1834195 ,\n",
              "       23.39709908, 23.72793558, 26.21340741, 26.21340741, 28.69887925,\n",
              "       26.21340741, 26.21340741, 23.72793558, 19.99972783, 15.02878417,\n",
              "       12.54331234,  8.48426809,  8.90515831,  7.70590466])"
            ]
          },
          "metadata": {
            "tags": []
          },
          "execution_count": 66
        }
      ]
    }
  ]
}